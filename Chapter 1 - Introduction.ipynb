{
 "cells": [
  {
   "cell_type": "markdown",
   "id": "50370170",
   "metadata": {},
   "source": [
    "# Chapter 1 - Introduction"
   ]
  },
  {
   "cell_type": "markdown",
   "id": "9d762ae6",
   "metadata": {},
   "source": [
    "## This is a heading"
   ]
  },
  {
   "cell_type": "markdown",
   "id": "d3ef4a54",
   "metadata": {},
   "source": [
    "And this is the text :)"
   ]
  }
 ],
 "metadata": {
  "kernelspec": {
   "display_name": "Python 3",
   "language": "python",
   "name": "python3"
  },
  "language_info": {
   "codemirror_mode": {
    "name": "ipython",
    "version": 3
   },
   "file_extension": ".py",
   "mimetype": "text/x-python",
   "name": "python",
   "nbconvert_exporter": "python",
   "pygments_lexer": "ipython3",
   "version": "3.8.8"
  }
 },
 "nbformat": 4,
 "nbformat_minor": 5
}
